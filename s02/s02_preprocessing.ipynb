{
 "cells": [
  {
   "cell_type": "code",
   "execution_count": 1,
   "metadata": {},
   "outputs": [
    {
     "name": "stdout",
     "output_type": "stream",
     "text": [
      "Extracting EDF parameters from /Users/patriciaalmeida/Library/CloudStorage/OneDrive-DanmarksTekniskeUniversitet/DTU/Spring 2025/Special course/sleepeeg/2025-02-18_23-51-08_1a6055f0_27_electrodes.edf...\n",
      "EDF file detected\n",
      "Setting channel info structure...\n",
      "Creating raw.info structure...\n",
      "Reading 0 ... 8839679  =      0.000 ... 34529.996 secs...\n",
      "Sampling frequency of the instance is already 256.0, returning unmodified.\n",
      "Filtering raw data in 1 contiguous segment\n",
      "Setting up band-pass filter from 0.75 - 40 Hz\n",
      "\n",
      "FIR filter parameters\n",
      "---------------------\n",
      "Designing a one-pass, zero-phase, non-causal bandpass filter:\n",
      "- Windowed time-domain design (firwin) method\n",
      "- Hamming window with 0.0194 passband ripple and 53 dB stopband attenuation\n",
      "- Lower passband edge: 0.75\n",
      "- Lower transition bandwidth: 0.75 Hz (-6 dB cutoff frequency: 0.38 Hz)\n",
      "- Upper passband edge: 40.00 Hz\n",
      "- Upper transition bandwidth: 10.00 Hz (-6 dB cutoff frequency: 45.00 Hz)\n",
      "- Filter length: 1127 samples (4.402 s)\n",
      "\n"
     ]
    },
    {
     "name": "stderr",
     "output_type": "stream",
     "text": [
      "[Parallel(n_jobs=1)]: Done  17 tasks      | elapsed:    3.4s\n"
     ]
    },
    {
     "name": "stdout",
     "output_type": "stream",
     "text": [
      "Filtering raw data in 1 contiguous segment\n",
      "Setting up band-stop filter from 49 - 51 Hz\n",
      "\n",
      "FIR filter parameters\n",
      "---------------------\n",
      "Designing a one-pass, zero-phase, non-causal bandstop filter:\n",
      "- Windowed time-domain design (firwin) method\n",
      "- Hamming window with 0.0194 passband ripple and 53 dB stopband attenuation\n",
      "- Lower passband edge: 49.38\n",
      "- Lower transition bandwidth: 0.50 Hz (-6 dB cutoff frequency: 49.12 Hz)\n",
      "- Upper passband edge: 50.62 Hz\n",
      "- Upper transition bandwidth: 0.50 Hz (-6 dB cutoff frequency: 50.88 Hz)\n",
      "- Filter length: 1691 samples (6.605 s)\n",
      "\n"
     ]
    },
    {
     "name": "stderr",
     "output_type": "stream",
     "text": [
      "[Parallel(n_jobs=1)]: Done  17 tasks      | elapsed:    2.7s\n"
     ]
    },
    {
     "name": "stdout",
     "output_type": "stream",
     "text": [
      "Not setting metadata\n",
      "17265 matching events found\n",
      "No baseline correction applied\n",
      "0 projection items activated\n",
      "Using data from preloaded Raw for 17265 events and 512 original time points ...\n",
      "0 bad epochs dropped\n"
     ]
    }
   ],
   "source": [
    "import mne\n",
    "import numpy as np\n",
    "\n",
    "# Load EEG file (modify the filename)\n",
    "raw = mne.io.read_raw_edf(\"2025-02-18_23-51-08_1a6055f0_27_electrodes.edf\", preload=True)\n",
    "\n",
    "# Apply bandpass and notch filtering\n",
    "# raw.crop(tmin=18000)\n",
    "raw.resample(sfreq=256)\n",
    "raw.filter(l_freq=0.75, h_freq=40, picks=\"eeg\")  # Bandpass: 0.75-40 Hz\n",
    "raw.notch_filter(freqs=50, picks=\"eeg\")  # Remove 50Hz powerline noise\n",
    "\n",
    "# Detect bad segments automatically\n",
    "epochs = mne.make_fixed_length_epochs(raw, duration=2.0)\n",
    "stds = np.std(epochs.get_data(), axis=(1, 2))\n",
    "threshold = np.mean(stds) + 2 * np.std(stds)\n",
    "bad_epochs = np.where(stds > threshold)[0]\n",
    "\n",
    "# Annotate detected bad segments\n",
    "for epoch_idx in bad_epochs:\n",
    "    onset = epochs.events[epoch_idx, 0] / raw.info['sfreq']\n",
    "    buffer_time = 1  # Adjust as needed\n",
    "    onset_corrected = onset - buffer_time\n",
    "    raw.annotations.append(onset_corrected, 4, \"BAD\")\n",
    "\n",
    "\n",
    "# 🔹 Detect bad channels based on variance (using thresholding)\n",
    "# bad_channels = mne.preprocessing.find_bad_channels_eeg(raw, method=\"variance\", picks=\"eeg\")\n",
    "\n",
    "# raw.info[\"bads\"] = bad_channels\n",
    "# print(f\"🚨 Bad channels detected: {bad_channels}\")\n"
   ]
  },
  {
   "cell_type": "code",
   "execution_count": 2,
   "metadata": {},
   "outputs": [
    {
     "name": "stdout",
     "output_type": "stream",
     "text": [
      "Using qt as 2D backend.\n",
      "Using pyopengl with version 3.1.9\n"
     ]
    }
   ],
   "source": [
    "fig = raw.plot()"
   ]
  },
  {
   "cell_type": "code",
   "execution_count": 3,
   "metadata": {},
   "outputs": [
    {
     "name": "stdout",
     "output_type": "stream",
     "text": [
      "Overwriting existing file.\n",
      "Writing /Users/patriciaalmeida/Library/CloudStorage/OneDrive-DanmarksTekniskeUniversitet/DTU/Spring 2025/Special course/sleepeeg/s02_cleaned_eeg_with_annotations.fif\n"
     ]
    },
    {
     "name": "stderr",
     "output_type": "stream",
     "text": [
      "/var/folders/fy/wgbms_gd5cdfzmkw53vtsh740000gn/T/ipykernel_28527/2836858128.py:2: RuntimeWarning: This filename (/Users/patriciaalmeida/Library/CloudStorage/OneDrive-DanmarksTekniskeUniversitet/DTU/Spring 2025/Special course/sleepeeg/s02_cleaned_eeg_with_annotations.fif) does not conform to MNE naming conventions. All raw files should end with raw.fif, raw_sss.fif, raw_tsss.fif, _meg.fif, _eeg.fif, _ieeg.fif, raw.fif.gz, raw_sss.fif.gz, raw_tsss.fif.gz, _meg.fif.gz, _eeg.fif.gz or _ieeg.fif.gz\n",
      "  raw.save(\"s02_cleaned_eeg_with_annotations.fif\", overwrite=True)\n"
     ]
    },
    {
     "name": "stdout",
     "output_type": "stream",
     "text": [
      "Closing /Users/patriciaalmeida/Library/CloudStorage/OneDrive-DanmarksTekniskeUniversitet/DTU/Spring 2025/Special course/sleepeeg/s02_cleaned_eeg_with_annotations.fif\n",
      "[done]\n",
      "EEG cleaned and saved successfully!\n"
     ]
    }
   ],
   "source": [
    "# Save the cleaned EEG file with annotations\n",
    "raw.save(\"s02_cleaned_eeg_with_annotations.fif\", overwrite=True)\n",
    "print(\"EEG cleaned and saved successfully!\")"
   ]
  }
 ],
 "metadata": {
  "kernelspec": {
   "display_name": "myenv",
   "language": "python",
   "name": "python3"
  },
  "language_info": {
   "codemirror_mode": {
    "name": "ipython",
    "version": 3
   },
   "file_extension": ".py",
   "mimetype": "text/x-python",
   "name": "python",
   "nbconvert_exporter": "python",
   "pygments_lexer": "ipython3",
   "version": "3.10.16"
  }
 },
 "nbformat": 4,
 "nbformat_minor": 2
}
