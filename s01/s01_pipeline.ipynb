{
 "cells": [
  {
   "cell_type": "code",
   "execution_count": 1,
   "metadata": {},
   "outputs": [
    {
     "name": "stdout",
     "output_type": "stream",
     "text": [
      "Extracting EDF parameters from /Users/patriciaalmeida/Library/CloudStorage/OneDrive-DanmarksTekniskeUniversitet/DTU/Spring 2025/Special course/sleepeeg/2024-11-22_14-08-21_8e19cc41_27_electrodes.edf...\n",
      "EDF file detected\n",
      "Setting channel info structure...\n",
      "Creating raw.info structure...\n",
      "Reading 0 ... 13518079  =      0.000 ... 52804.996 secs...\n"
     ]
    }
   ],
   "source": [
    "import os\n",
    "import sys\n",
    "import mne\n",
    "import matplotlib as plt\n",
    "import sleepeegpy\n",
    "import numpy as np\n",
    "import datetime\n",
    "import matplotlib.pyplot as plt\n",
    "from matplotlib.dates import DateFormatter\n",
    "import yasa\n",
    "\n",
    "import mne\n",
    "import numpy as np\n",
    "import pooch\n",
    "from sleepeegpy.pipeline import (\n",
    "    CleaningPipe,\n",
    "    ICAPipe,\n",
    "    SpectralPipe,\n",
    "    SpindlesPipe,\n",
    "    SlowWavesPipe,\n",
    "    RapidEyeMovementsPipe,\n",
    ")\n",
    "from sleepeegpy.dashboard import create_dashboard\n",
    "\n",
    "from os import makedirs\n",
    "\n",
    "# Load EEG file (modify the filename)\n",
    "raw = mne.io.read_raw_edf(\"2024-11-22_14-08-21_8e19cc41_27_electrodes.edf\", preload=True)\n",
    "\n",
    "# # Apply bandpass and notch filtering\n",
    "# raw.crop(tmin=18000)\n",
    "# raw.filter(l_freq=0.75, h_freq=40, picks=\"eeg\")  # Bandpass: 0.75-40 Hz\n",
    "# raw.notch_filter(freqs=50, picks=\"eeg\")  # Remove 50Hz powerline noise\n",
    "\n",
    "# # Detect bad segments automatically\n",
    "# epochs = mne.make_fixed_length_epochs(raw, duration=2.0)\n",
    "# stds = np.std(epochs.get_data(), axis=(1, 2))\n",
    "# threshold = np.mean(stds) + 2 * np.std(stds)\n",
    "# bad_epochs = np.where(stds > threshold)[0]\n",
    "\n",
    "# # Annotate detected bad segments\n",
    "# for epoch_idx in bad_epochs:\n",
    "#     onset = epochs.events[epoch_idx, 0] / raw.info['sfreq']\n",
    "#     #buffer_time = 1.5  # Adjust as needed\n",
    "#     #onset_corrected = onset - buffer_time\n",
    "#     raw.annotations.append(onset, 3, \"BAD\")\n",
    "\n",
    "\n",
    "# 🔹 Detect bad channels based on variance (using thresholding)\n",
    "# bad_channels = mne.preprocessing.find_bad_channels_eeg(raw, method=\"variance\", picks=\"eeg\")\n",
    "\n",
    "# raw.info[\"bads\"] = bad_channels\n",
    "# print(f\"🚨 Bad channels detected: {bad_channels}\")\n"
   ]
  },
  {
   "cell_type": "code",
   "execution_count": 2,
   "metadata": {},
   "outputs": [
    {
     "name": "stdout",
     "output_type": "stream",
     "text": [
      "Using qt as 2D backend.\n",
      "Using pyopengl with version 3.1.9\n"
     ]
    },
    {
     "name": "stdout",
     "output_type": "stream",
     "text": [
      "Channels marked as bad:\n",
      "none\n"
     ]
    }
   ],
   "source": [
    "fig = raw.plot()"
   ]
  },
  {
   "cell_type": "code",
   "execution_count": 3,
   "metadata": {},
   "outputs": [
    {
     "name": "stdout",
     "output_type": "stream",
     "text": [
      "<Info | 8 non-empty values\n",
      " bads: []\n",
      " ch_names: FP1, FP2, F3, F4, C3, C4, P3, P4, O1, O2, F7, F8, T7, T8, TP7, ...\n",
      " chs: 30 EEG\n",
      " custom_ref_applied: False\n",
      " highpass: 0.0 Hz\n",
      " lowpass: 128.0 Hz\n",
      " meas_date: 2024-11-22 14:08:21 UTC\n",
      " nchan: 30\n",
      " projs: []\n",
      " sfreq: 256.0 Hz\n",
      " subject_info: <subject_info | his_id: X, sex: 0, last_name: X>\n",
      ">\n",
      "['REC_STARTED ' 'Missing 1 samples / 0,00 seconds'\n",
      " 'Missing 1 samples / 0,00 seconds' 'Missing 1 samples / 0,00 seconds'\n",
      " 'Missing 1 samples / 0,00 seconds' 'Missing 1 samples / 0,00 seconds'\n",
      " 'Missing 5 samples / 0,02 seconds' 'Missing 1 samples / 0,00 seconds'\n",
      " 'Missing 1 samples / 0,00 seconds' 'Missing 1 samples / 0,00 seconds'\n",
      " 'Missing 1 samples / 0,00 seconds' 'Missing 1 samples / 0,00 seconds'\n",
      " 'Missing 1 samples / 0,00 seconds' 'Missing 1 samples / 0,00 seconds'\n",
      " 'Missing 4 samples / 0,02 seconds' 'Missing 4 samples / 0,02 seconds'\n",
      " 'Missing 4 samples / 0,02 seconds' 'Missing 1 samples / 0,00 seconds'\n",
      " 'Missing 1 samples / 0,00 seconds' 'Missing 1 samples / 0,00 seconds'\n",
      " 'Missing 1 samples / 0,00 seconds' 'Missing 1 samples / 0,00 seconds'\n",
      " 'Missing 1 samples / 0,00 seconds' 'Missing 1 samples / 0,00 seconds'\n",
      " 'Missing 1 samples / 0,00 seconds' 'Missing 1 samples / 0,00 seconds'\n",
      " 'Missing 1 samples / 0,00 seconds' 'Missing 1 samples / 0,00 seconds'\n",
      " 'Missing 1 samples / 0,00 seconds' 'Missing 1 samples / 0,00 seconds'\n",
      " 'Missing 1 samples / 0,00 seconds' 'Missing 1 samples / 0,00 seconds'\n",
      " 'Missing 1 samples / 0,00 seconds' 'Missing 1 samples / 0,00 seconds'\n",
      " 'Missing 1 samples / 0,00 seconds' 'Missing 1 samples / 0,00 seconds'\n",
      " 'Missing 1 samples / 0,00 seconds' 'Missing 1 samples / 0,00 seconds'\n",
      " 'Missing 1 samples / 0,00 seconds' 'Missing 1 samples / 0,00 seconds'\n",
      " 'Missing 1 samples / 0,00 seconds' 'Missing 1 samples / 0,00 seconds'\n",
      " 'Missing 1 samples / 0,00 seconds' 'Missing 1 samples / 0,00 seconds'\n",
      " 'Missing 1 samples / 0,00 seconds' 'Missing 1 samples / 0,00 seconds'\n",
      " 'Missing 4 samples / 0,02 seconds' 'Missing 4 samples / 0,02 seconds'\n",
      " 'Missing 7 samples / 0,03 seconds' 'Missing 11 samples / 0,04 seconds'\n",
      " 'Missing 6 samples / 0,02 seconds' 'Missing 21 samples / 0,08 seconds'\n",
      " 'Missing 3 samples / 0,01 seconds' 'Missing 8 samples / 0,03 seconds'\n",
      " 'Missing 4 samples / 0,02 seconds' 'Missing 4 samples / 0,02 seconds'\n",
      " 'Missing 4 samples / 0,02 seconds' 'Missing 7 samples / 0,03 seconds'\n",
      " 'Missing 9 samples / 0,04 seconds' 'Missing 2 samples / 0,01 seconds'\n",
      " 'Missing 4 samples / 0,02 seconds' 'Missing 4 samples / 0,02 seconds'\n",
      " 'Missing 4 samples / 0,02 seconds' 'Missing 4 samples / 0,02 seconds'\n",
      " 'Missing 4 samples / 0,02 seconds' 'Missing 4 samples / 0,02 seconds'\n",
      " 'Missing 1 samples / 0,00 seconds' 'Missing 4 samples / 0,02 seconds'\n",
      " 'Missing 1 samples / 0,00 seconds' 'Missing 5 samples / 0,02 seconds'\n",
      " 'Missing 1 samples / 0,00 seconds' 'Missing 1 samples / 0,00 seconds'\n",
      " 'Missing 4 samples / 0,02 seconds' 'Missing 3 samples / 0,01 seconds'\n",
      " 'Missing 4 samples / 0,02 seconds' 'Missing 4 samples / 0,02 seconds'\n",
      " 'Missing 4 samples / 0,02 seconds' 'Missing 5 samples / 0,02 seconds'\n",
      " 'Missing 5 samples / 0,02 seconds' 'Missing 4 samples / 0,02 seconds'\n",
      " 'Missing 1 samples / 0,00 seconds' 'Missing 5 samples / 0,02 seconds'\n",
      " 'Missing 4 samples / 0,02 seconds' 'Missing 1 samples / 0,00 seconds'\n",
      " 'Missing 1 samples / 0,00 seconds' 'Missing 1 samples / 0,00 seconds'\n",
      " 'Missing 8 samples / 0,03 seconds' 'Missing 4 samples / 0,02 seconds'\n",
      " 'Missing 11 samples / 0,04 seconds' 'Missing 9 samples / 0,04 seconds'\n",
      " 'Missing 10 samples / 0,04 seconds' 'Missing 7 samples / 0,03 seconds'\n",
      " 'Missing 4 samples / 0,02 seconds' 'Missing 8 samples / 0,03 seconds'\n",
      " 'Missing 4 samples / 0,02 seconds' 'Missing 28 samples / 0,11 seconds'\n",
      " 'Missing 5 samples / 0,02 seconds' 'Missing 14 samples / 0,05 seconds'\n",
      " 'Missing 30 samples / 0,12 seconds' 'Missing 10 samples / 0,04 seconds'\n",
      " 'Missing 18 samples / 0,07 seconds' 'Missing 25 samples / 0,10 seconds'\n",
      " 'Missing 4 samples / 0,02 seconds' 'Missing 26 samples / 0,10 seconds'\n",
      " 'Missing 2 samples / 0,01 seconds' 'Missing 11 samples / 0,04 seconds'\n",
      " 'Missing 4 samples / 0,02 seconds' 'Missing 5 samples / 0,02 seconds'\n",
      " 'Missing 1 samples / 0,00 seconds' 'Missing 11 samples / 0,04 seconds'\n",
      " 'Missing 15 samples / 0,06 seconds' 'Missing 5 samples / 0,02 seconds'\n",
      " 'Missing 15 samples / 0,06 seconds' 'Missing 2 samples / 0,01 seconds'\n",
      " 'Missing 11 samples / 0,04 seconds' 'Missing 3 samples / 0,01 seconds'\n",
      " 'Missing 8 samples / 0,03 seconds' 'Missing 4 samples / 0,02 seconds'\n",
      " 'Missing 1 samples / 0,00 seconds' 'Missing 8 samples / 0,03 seconds'\n",
      " 'Missing 1 samples / 0,00 seconds' 'Missing 4 samples / 0,02 seconds'\n",
      " 'Missing 4 samples / 0,02 seconds' 'Missing 4 samples / 0,02 seconds'\n",
      " 'Missing 5 samples / 0,02 seconds' 'Missing 8 samples / 0,03 seconds'\n",
      " 'Missing 18 samples / 0,07 seconds' 'Missing 5 samples / 0,02 seconds'\n",
      " 'Missing 19 samples / 0,07 seconds' 'Missing 18 samples / 0,07 seconds'\n",
      " 'Missing 16 samples / 0,06 seconds' 'Missing 20 samples / 0,08 seconds'\n",
      " 'Missing 27 samples / 0,11 seconds' 'Missing 30 samples / 0,12 seconds'\n",
      " 'Missing 10 samples / 0,04 seconds' 'Missing 10 samples / 0,04 seconds'\n",
      " 'Missing 14 samples / 0,05 seconds' 'Missing 8 samples / 0,03 seconds'\n",
      " 'Missing 4 samples / 0,02 seconds' 'Missing 11 samples / 0,04 seconds'\n",
      " 'Missing 4 samples / 0,02 seconds' 'Missing 9 samples / 0,04 seconds'\n",
      " 'Missing 4 samples / 0,02 seconds' 'Missing 10 samples / 0,04 seconds'\n",
      " 'Missing 3 samples / 0,01 seconds' 'Missing 21 samples / 0,08 seconds'\n",
      " 'Missing 2 samples / 0,01 seconds' 'Missing 2 samples / 0,01 seconds'\n",
      " 'Missing 3 samples / 0,01 seconds' 'Missing 30 samples / 0,12 seconds'\n",
      " 'Missing 12 samples / 0,05 seconds' 'Missing 4 samples / 0,02 seconds'\n",
      " 'Missing 5 samples / 0,02 seconds' 'Missing 6 samples / 0,02 seconds'\n",
      " 'Missing 4 samples / 0,02 seconds' 'Missing 4 samples / 0,02 seconds'\n",
      " 'Missing 3 samples / 0,01 seconds' 'Missing 1 samples / 0,00 seconds'\n",
      " 'Missing 17 samples / 0,07 seconds' 'Missing 9 samples / 0,04 seconds'\n",
      " 'Missing 5 samples / 0,02 seconds' 'Missing 5 samples / 0,02 seconds'\n",
      " 'Missing 7 samples / 0,03 seconds' 'Missing 6 samples / 0,02 seconds'\n",
      " 'Missing 38 samples / 0,15 seconds' 'Missing 14 samples / 0,05 seconds'\n",
      " 'Missing 35 samples / 0,14 seconds' 'Missing 1833 samples / 7,16 seconds'\n",
      " 'Missing 55 samples / 0,21 seconds' 'Missing 4 samples / 0,02 seconds'\n",
      " 'Missing 4 samples / 0,02 seconds' 'Missing 3 samples / 0,01 seconds'\n",
      " 'Missing 4 samples / 0,02 seconds' 'Missing 5 samples / 0,02 seconds'\n",
      " 'Missing 5 samples / 0,02 seconds' 'Missing 4 samples / 0,02 seconds'\n",
      " 'Missing 4 samples / 0,02 seconds' 'Missing 3 samples / 0,01 seconds'\n",
      " 'Missing 1 samples / 0,00 seconds' 'Missing 4 samples / 0,02 seconds'\n",
      " 'Missing 4 samples / 0,02 seconds' 'Missing 1 samples / 0,00 seconds'\n",
      " 'Missing 1 samples / 0,00 seconds' 'Missing 1 samples / 0,00 seconds'\n",
      " 'Missing 1 samples / 0,00 seconds' 'Missing 11 samples / 0,04 seconds'\n",
      " 'Missing 1 samples / 0,00 seconds' 'Missing 14 samples / 0,05 seconds'\n",
      " 'Missing 4 samples / 0,02 seconds' 'Missing 4 samples / 0,02 seconds'\n",
      " 'Missing 5 samples / 0,02 seconds' 'Missing 4 samples / 0,02 seconds'\n",
      " 'Missing 22 samples / 0,09 seconds' 'Missing 27 samples / 0,11 seconds'\n",
      " 'Missing 9 samples / 0,04 seconds' 'Missing 18 samples / 0,07 seconds'\n",
      " 'Missing 30 samples / 0,12 seconds' 'Missing 17 samples / 0,07 seconds'\n",
      " 'Missing 2 samples / 0,01 seconds' 'Missing 18 samples / 0,07 seconds'\n",
      " 'Missing 1 samples / 0,00 seconds' 'Missing 22 samples / 0,09 seconds'\n",
      " 'Missing 11 samples / 0,04 seconds' 'Missing 12 samples / 0,05 seconds'\n",
      " 'Missing 8 samples / 0,03 seconds' 'Missing 11 samples / 0,04 seconds'\n",
      " 'Missing 4494 samples / 17,55 seconds'\n",
      " 'Missing 10 samples / 0,04 seconds' 'Missing 8 samples / 0,03 seconds'\n",
      " 'Missing 8 samples / 0,03 seconds' 'Missing 3 samples / 0,01 seconds'\n",
      " 'Missing 7 samples / 0,03 seconds' 'Missing 5 samples / 0,02 seconds'\n",
      " 'Missing 2 samples / 0,01 seconds' 'Missing 19 samples / 0,07 seconds'\n",
      " 'Missing 42 samples / 0,16 seconds' 'Missing 63 samples / 0,25 seconds'\n",
      " 'Missing 30 samples / 0,12 seconds' 'Missing 31 samples / 0,12 seconds'\n",
      " 'Missing 18 samples / 0,07 seconds' 'Missing 9 samples / 0,04 seconds'\n",
      " 'Missing 30 samples / 0,12 seconds' 'Missing 30 samples / 0,12 seconds'\n",
      " 'Missing 2 samples / 0,01 seconds' 'Missing 62 samples / 0,24 seconds'\n",
      " 'Missing 4 samples / 0,02 seconds' 'Missing 1 samples / 0,00 seconds'\n",
      " 'Missing 16 samples / 0,06 seconds' 'Missing 12 samples / 0,05 seconds'\n",
      " 'Missing 6 samples / 0,02 seconds' 'Missing 19 samples / 0,07 seconds'\n",
      " 'Missing 30 samples / 0,12 seconds' 'Missing 13 samples / 0,05 seconds'\n",
      " 'Missing 13 samples / 0,05 seconds' 'Missing 6 samples / 0,02 seconds'\n",
      " 'Missing 18 samples / 0,07 seconds' 'Missing 28 samples / 0,11 seconds'\n",
      " 'Missing 31 samples / 0,12 seconds' 'Missing 30 samples / 0,12 seconds'\n",
      " 'Missing 28 samples / 0,11 seconds' 'Missing 1 samples / 0,00 seconds'\n",
      " 'Missing 1 samples / 0,00 seconds' 'Missing 16 samples / 0,06 seconds'\n",
      " 'Missing 8 samples / 0,03 seconds' 'Missing 27 samples / 0,11 seconds'\n",
      " 'Missing 30 samples / 0,12 seconds' 'Missing 24 samples / 0,09 seconds'\n",
      " 'Missing 4 samples / 0,02 seconds' 'Missing 27 samples / 0,11 seconds'\n",
      " 'Missing 21 samples / 0,08 seconds' 'Missing 7 samples / 0,03 seconds'\n",
      " 'Missing 30 samples / 0,12 seconds' 'Missing 3 samples / 0,01 seconds'\n",
      " 'Missing 11 samples / 0,04 seconds' 'Missing 13 samples / 0,05 seconds'\n",
      " 'Missing 17 samples / 0,07 seconds' 'Missing 19 samples / 0,07 seconds'\n",
      " 'Missing 6 samples / 0,02 seconds' 'Missing 16 samples / 0,06 seconds'\n",
      " 'Missing 28 samples / 0,11 seconds' 'Missing 16 samples / 0,06 seconds'\n",
      " 'Missing 2 samples / 0,01 seconds' 'Missing 5 samples / 0,02 seconds'\n",
      " 'Missing 1 samples / 0,00 seconds' 'Missing 1 samples / 0,00 seconds'\n",
      " 'Missing 1 samples / 0,00 seconds' 'Missing 1 samples / 0,00 seconds'\n",
      " 'Missing 4 samples / 0,02 seconds' 'Missing 1 samples / 0,00 seconds'\n",
      " 'Missing 1 samples / 0,00 seconds' 'Missing 1 samples / 0,00 seconds'\n",
      " 'Missing 4 samples / 0,02 seconds' 'Missing 4 samples / 0,02 seconds'\n",
      " 'Missing 1 samples / 0,00 seconds' 'REC_STARTED ' 'RELAX '\n",
      " 'Missing 5 samples / 0,02 seconds' 'Missing 1 samples / 0,00 seconds'\n",
      " 'Missing 1 samples / 0,00 seconds' 'Missing 1 samples / 0.00 seconds'\n",
      " 'Missing 36 samples / 0.14 seconds']\n",
      "[2.73000000e-02 5.74455000e+01 5.91563000e+01 2.07115600e+02\n",
      " 2.80134400e+02 3.16257100e+02 3.41177300e+02 4.21953400e+02\n",
      " 4.26964800e+02 4.27769400e+02 4.51049200e+02 5.02881800e+02\n",
      " 5.29321500e+02 5.34868100e+02 5.82775200e+02 5.88200600e+02\n",
      " 5.89598900e+02 6.13003700e+02 6.22385900e+02 6.25854400e+02\n",
      " 7.33605300e+02 7.41991500e+02 8.45164600e+02 8.70573100e+02\n",
      " 8.85689400e+02 9.39310900e+02 9.46564400e+02 1.02380940e+03\n",
      " 1.03738280e+03 1.08387980e+03 1.12054930e+03 1.23628800e+03\n",
      " 1.26960620e+03 1.27953130e+03 1.38801270e+03 1.40835510e+03\n",
      " 1.43599790e+03 1.56123210e+03 1.58358610e+03 1.58948020e+03\n",
      " 1.68484910e+03 2.73832860e+03 2.77150230e+03 3.24887010e+03\n",
      " 5.33222900e+03 5.81693230e+03 5.82499430e+03 5.83900120e+03\n",
      " 5.92643700e+03 5.92665580e+03 5.92706590e+03 5.92710890e+03\n",
      " 5.92711670e+03 5.92714010e+03 5.92717530e+03 5.92933920e+03\n",
      " 5.93038990e+03 5.93053440e+03 5.93095630e+03 5.93103830e+03\n",
      " 5.93274130e+03 5.94315470e+03 5.94685760e+03 5.96318080e+03\n",
      " 5.96745390e+03 5.99116730e+03 6.10021500e+03 6.28973020e+03\n",
      " 6.70446930e+03 6.93541150e+03 6.96844850e+03 7.01460180e+03\n",
      " 7.19250050e+03 7.19294580e+03 7.20046880e+03 7.26593720e+03\n",
      " 7.26819100e+03 7.26819880e+03 7.27393280e+03 7.28243230e+03\n",
      " 7.32519130e+03 7.39602270e+03 7.40020600e+03 7.41133810e+03\n",
      " 7.47351770e+03 8.95363390e+03 1.06968309e+04 1.06968505e+04\n",
      " 1.06992605e+04 1.06997409e+04 1.06998112e+04 1.07003854e+04\n",
      " 1.07003971e+04 1.07004401e+04 1.07006315e+04 1.07007526e+04\n",
      " 1.07007838e+04 1.07008033e+04 1.07008111e+04 1.07008190e+04\n",
      " 1.07008268e+04 1.07008580e+04 1.07009049e+04 1.07009752e+04\n",
      " 1.07009830e+04 1.07009947e+04 1.07010064e+04 1.07011393e+04\n",
      " 1.07011471e+04 1.07012291e+04 1.07012486e+04 1.07012564e+04\n",
      " 1.07012760e+04 1.07012838e+04 1.07012916e+04 1.07013228e+04\n",
      " 1.07013463e+04 1.07020220e+04 1.07029399e+04 1.07088809e+04\n",
      " 1.07160289e+04 1.07268017e+04 1.07268212e+04 1.07269931e+04\n",
      " 1.07321216e+04 1.07349535e+04 1.07350082e+04 1.07350472e+04\n",
      " 1.07353050e+04 1.07353363e+04 1.07353441e+04 1.07353519e+04\n",
      " 1.07353636e+04 1.07353714e+04 1.07353792e+04 1.07354300e+04\n",
      " 1.07354378e+04 1.07354574e+04 1.07361331e+04 1.07387306e+04\n",
      " 1.07388986e+04 1.07437225e+04 1.07440584e+04 1.07441443e+04\n",
      " 1.07442888e+04 1.07444490e+04 1.07444568e+04 1.07444763e+04\n",
      " 1.07446716e+04 1.07446794e+04 1.07446872e+04 1.07452771e+04\n",
      " 1.07458669e+04 1.25274716e+04 1.25274950e+04 1.25276434e+04\n",
      " 1.25276786e+04 1.25278661e+04 1.25278739e+04 1.25278817e+04\n",
      " 1.25279169e+04 1.25279872e+04 1.25279950e+04 1.25280028e+04\n",
      " 1.25280106e+04 1.25280145e+04 1.25280184e+04 1.25280301e+04\n",
      " 1.25283856e+04 1.25287762e+04 1.25288504e+04 1.25289832e+04\n",
      " 1.25290574e+04 1.25291121e+04 1.25293660e+04 1.25296824e+04\n",
      " 1.25298425e+04 1.25302527e+04 1.25306198e+04 1.25381779e+04\n",
      " 1.25394278e+04 1.25576493e+04 1.26008067e+04 1.26441790e+04\n",
      " 1.26630410e+04 1.26660955e+04 1.26668728e+04 1.26675759e+04\n",
      " 1.26675954e+04 1.26676032e+04 1.26677360e+04 1.26679313e+04\n",
      " 1.26679392e+04 1.26679587e+04 1.26679665e+04 1.26679782e+04\n",
      " 1.26679860e+04 1.26680446e+04 1.26680993e+04 1.26681071e+04\n",
      " 1.26681188e+04 1.26681266e+04 1.26717748e+04 1.26717866e+04\n",
      " 1.26718217e+04 1.26718295e+04 1.26718842e+04 1.26719194e+04\n",
      " 1.26719272e+04 1.26719350e+04 1.26719428e+04 1.26720639e+04\n",
      " 1.26720990e+04 1.26721225e+04 1.26721303e+04 1.26721342e+04\n",
      " 1.26721381e+04 1.26721459e+04 1.26721498e+04 1.26721576e+04\n",
      " 1.26721693e+04 1.26721772e+04 1.26721850e+04 1.26721928e+04\n",
      " 1.26722006e+04 1.26722358e+04 1.26722865e+04 1.26722943e+04\n",
      " 1.26723022e+04 1.26723100e+04 1.26723334e+04 1.26723373e+04\n",
      " 1.26723451e+04 1.26723764e+04 1.26723881e+04 1.26723959e+04\n",
      " 1.26724076e+04 1.26724115e+04 1.26724193e+04 1.26724271e+04\n",
      " 1.26724311e+04 1.26724350e+04 1.26724506e+04 1.26724584e+04\n",
      " 1.26724779e+04 1.26724857e+04 1.26724935e+04 1.26725014e+04\n",
      " 1.26725209e+04 1.26725287e+04 1.26725365e+04 1.26725443e+04\n",
      " 1.26725482e+04 1.26725560e+04 1.26725639e+04 1.26726224e+04\n",
      " 1.26726420e+04 1.26726498e+04 1.26727201e+04 1.26727279e+04\n",
      " 1.26727474e+04 1.26727826e+04 1.26734818e+04 1.26767277e+04\n",
      " 1.26788252e+04 1.26836139e+04 1.26984372e+04 1.27885096e+04\n",
      " 1.31964014e+04 1.32364340e+04 1.34951675e+04 1.40766068e+04\n",
      " 1.40766381e+04 1.49660967e+04 1.78762152e+04 1.78762152e+04\n",
      " 1.85858651e+04 1.87743218e+04 1.98178682e+04 3.74085041e+04\n",
      " 5.27119621e+04]\n",
      "[    0.        0.        0.        0.        0.        0.        0.\n",
      "     0.        0.        0.        0.        0.        0.        0.\n",
      "     0.        0.        0.        0.        0.        0.        0.\n",
      "     0.        0.        0.        0.        0.        0.        0.\n",
      "     0.        0.        0.        0.        0.        0.        0.\n",
      "     0.        0.        0.        0.        0.        0.        0.\n",
      "     0.        0.        0.        0.        0.        0.        0.\n",
      "     0.        0.        0.        0.        0.        0.        0.\n",
      "     0.        0.        0.        0.        0.        0.        0.\n",
      "     0.        0.        0.        0.        0.        0.        0.\n",
      "     0.        0.        0.        0.        0.        0.        0.\n",
      "     0.        0.        0.        0.        0.        0.        0.\n",
      "     0.        0.        0.        0.        0.        0.        0.\n",
      "     0.        0.        0.        0.        0.        0.        0.\n",
      "     0.        0.        0.        0.        0.        0.        0.\n",
      "     0.        0.        0.        0.        0.        0.        0.\n",
      "     0.        0.        0.        0.        0.        0.        0.\n",
      "     0.        0.        0.        0.        0.        0.        0.\n",
      "     0.        0.        0.        0.        0.        0.        0.\n",
      "     0.        0.        0.        0.        0.        0.        0.\n",
      "     0.        0.        0.        0.        0.        0.        0.\n",
      "     0.        0.        0.        0.        0.        0.        0.\n",
      "     0.        0.        0.        0.        0.        0.        0.\n",
      "     0.        0.        0.        0.        0.        0.        0.\n",
      "     0.        0.        0.        0.        0.        0.        0.\n",
      "     0.        0.        0.        0.        0.        0.        0.\n",
      "     0.        0.        0.        0.        0.        0.        0.\n",
      "     0.        0.        0.        0.        0.        0.        0.\n",
      "     0.        0.        0.        0.        0.        0.        0.\n",
      "     0.        0.        0.        0.        0.        0.        0.\n",
      "     0.        0.        0.        0.        0.        0.        0.\n",
      "     0.        0.        0.        0.        0.        0.        0.\n",
      "     0.        0.        0.        0.        0.        0.        0.\n",
      "     0.        0.        0.        0.        0.        0.        0.\n",
      "     0.        0.        0.        0.        0.        0.        0.\n",
      "     0.        0.        0.        0.        0.        0.        0.\n",
      "     0.        0.        0.        0.        0.        0.        0.\n",
      "     0.        0.        0.        0.        0.        0.        0.\n",
      "     0.        0.        0.        0.        0.        0.        0.\n",
      "     0.        0.    34835.476     0.        0.        0.        0.\n",
      "     0.   ]\n"
     ]
    }
   ],
   "source": [
    "print(raw.info)\n",
    "print(raw.annotations.description)  # The names of the annotations\n",
    "print(raw.annotations.onset)        # The time (in seconds) when they occur\n",
    "print(raw.annotations.duration) "
   ]
  },
  {
   "cell_type": "code",
   "execution_count": 4,
   "metadata": {},
   "outputs": [],
   "source": [
    "output_dir = \"output_folder\"  # Output path and name can be changed here\n",
    "input_dir = \"input_files\"  # input files dir can be changed here\n",
    "makedirs(input_dir, exist_ok=True)\n",
    "makedirs(output_dir, exist_ok=True)\n",
    "\n",
    "subject_code = \"Marcus\" # The subject code that will appear in the dashboard\n",
    "# eeg_file = \"s01_cleaned_eeg_with_annotations.fif\"\n",
    "bad_channels = \"bad_channels.txt\"\n",
    "annotations = \"annotations.txt\"\n",
    "hypnogram_filename = \"staging.txt\"\n",
    "hypno_freq = 1  # If required, change the Hypnogram's sampling frequency (Visbrain's hypnograms default to 1)\n",
    "hypno_selection = \"automatically\"\n",
    "annotations_selection = \"from-file\"\n",
    "bad_channels_selection = \"automatically\"\n",
    "\n",
    "if hypno_selection == \"automatically\":\n",
    "    hypnogram_path = \"predict\"\n",
    "    #### If you selected automatic hypnogram, select prediction arguments. ####\n",
    "    hypno_predict_arguments = {\n",
    "        \"eeg_name\": \"C4\", #(C4)\n",
    "        \"eog_name\": None, #(EOG1)\n",
    "        \"emg_name\": None,\n",
    "        \"ref_name\" : \"Cz\",\n",
    "    }\n",
    "else:\n",
    "    hypno_predict_arguments = None\n",
    "\n",
    "n_components = 25 # initial was 30\n",
    "picked_channel = \"Pz\"  # (Pz)\n",
    "loc_chname = \"R1\"  # (EOG1)\n",
    "roc_chname = \"R2\"  # (EOG2)\n",
    "\n",
    "#path_to_eeg = os.path.join(input_dir, eeg_file)\n",
    "if hypno_selection == \"from-file\":\n",
    "    hypnogram_path = os.path.join(input_dir, hypnogram_filename)\n",
    "bad_channels = (\n",
    "    None if bad_channels_selection == \"automatically\" else os.path.join(input_dir, bad_channels))\n",
    "annotations = ( None if annotations_selection == \"automatically\" else os.path.join(input_dir, annotations))"
   ]
  },
  {
   "cell_type": "code",
   "execution_count": 5,
   "metadata": {},
   "outputs": [
    {
     "name": "stdout",
     "output_type": "stream",
     "text": [
      "Extracting EDF parameters from /Users/patriciaalmeida/Library/CloudStorage/OneDrive-DanmarksTekniskeUniversitet/DTU/Spring 2025/Special course/sleepeeg/input_files/2024-11-22_14-08-21_8e19cc41_27_electrodes.edf...\n",
      "EDF file detected\n",
      "Setting channel info structure...\n",
      "Creating raw.info structure...\n",
      "Reading 0 ... 8910079  =      0.000 ... 34804.996 secs...\n",
      "Filtering raw data in 1 contiguous segment\n",
      "Setting up band-pass filter from 0.75 - 40 Hz\n",
      "\n",
      "FIR filter parameters\n",
      "---------------------\n",
      "Designing a one-pass, zero-phase, non-causal bandpass filter:\n",
      "- Windowed time-domain design (firwin) method\n",
      "- Hamming window with 0.0194 passband ripple and 53 dB stopband attenuation\n",
      "- Lower passband edge: 0.75\n",
      "- Lower transition bandwidth: 0.75 Hz (-6 dB cutoff frequency: 0.38 Hz)\n",
      "- Upper passband edge: 40.00 Hz\n",
      "- Upper transition bandwidth: 10.00 Hz (-6 dB cutoff frequency: 45.00 Hz)\n",
      "- Filter length: 1127 samples (4.402 s)\n",
      "\n"
     ]
    },
    {
     "name": "stderr",
     "output_type": "stream",
     "text": [
      "[Parallel(n_jobs=-1)]: Using backend LokyBackend with 8 concurrent workers.\n",
      "[Parallel(n_jobs=-1)]: Done  10 tasks      | elapsed:    5.0s\n",
      "[Parallel(n_jobs=-1)]: Done  30 out of  30 | elapsed:    8.8s finished\n"
     ]
    },
    {
     "name": "stdout",
     "output_type": "stream",
     "text": [
      "Filtering raw data in 1 contiguous segment\n",
      "Setting up band-stop filter from 49 - 51 Hz\n",
      "\n",
      "FIR filter parameters\n",
      "---------------------\n",
      "Designing a one-pass, zero-phase, non-causal bandstop filter:\n",
      "- Windowed time-domain design (firwin) method\n",
      "- Hamming window with 0.0194 passband ripple and 53 dB stopband attenuation\n",
      "- Lower passband edge: 49.38\n",
      "- Lower transition bandwidth: 0.50 Hz (-6 dB cutoff frequency: 49.12 Hz)\n",
      "- Upper passband edge: 50.62 Hz\n",
      "- Upper transition bandwidth: 0.50 Hz (-6 dB cutoff frequency: 50.88 Hz)\n",
      "- Filter length: 1691 samples (6.605 s)\n",
      "\n"
     ]
    },
    {
     "name": "stderr",
     "output_type": "stream",
     "text": [
      "[Parallel(n_jobs=-1)]: Using backend LokyBackend with 8 concurrent workers.\n",
      "[Parallel(n_jobs=-1)]: Done  10 tasks      | elapsed:    2.1s\n",
      "[Parallel(n_jobs=-1)]: Done  30 out of  30 | elapsed:    5.5s finished\n"
     ]
    }
   ],
   "source": [
    "path_to_eeg = os.path.join(input_dir, \"2024-11-22_14-08-21_8e19cc41_27_electrodes.edf\")\n",
    "pipe = CleaningPipe(path_to_eeg=path_to_eeg, output_dir=output_dir)\n",
    "start_time = 18000\n",
    "pipe.mne_raw.crop(tmin=start_time)\n",
    "\n",
    "# Apply bandpass and notch filtering\n",
    "\n",
    "pipe.resample(sfreq=256, n_jobs=-1, verbose=False)\n",
    "pipe.filter(l_freq=0.75, h_freq=40, n_jobs=-1,) # Bandpass\n",
    "pipe.notch(freqs=50, n_jobs=-1,) #Notch"
   ]
  },
  {
   "cell_type": "code",
   "execution_count": 6,
   "metadata": {},
   "outputs": [
    {
     "name": "stdout",
     "output_type": "stream",
     "text": [
      "Not setting metadata\n",
      "17402 matching events found\n",
      "No baseline correction applied\n",
      "0 projection items activated\n",
      "Using data from preloaded Raw for 17402 events and 512 original time points ...\n",
      "0 bad epochs dropped\n"
     ]
    }
   ],
   "source": [
    "\n",
    "# Detect bad segments automatically\n",
    "epochs = mne.make_fixed_length_epochs(pipe.mne_raw, duration=2)\n",
    "stds = np.std(epochs.get_data(), axis=(1, 2))\n",
    "threshold = np.mean(stds) + 2 * np.std(stds)\n",
    "bad_epochs = np.where(stds > threshold)[0]\n",
    "\n",
    "# # Annotate detected bad segments\n",
    "for epoch_idx in bad_epochs:\n",
    "    onset = epochs.events[epoch_idx, 0] / pipe.mne_raw.info['sfreq']\n",
    "    pipe.mne_raw.annotations.append(onset, 2, \"BAD\")\n",
    "\n",
    "\n",
    "# Detect and annotate bad segments automatically using amplitude threshold\n",
    "# annotations_amp, bads = mne.preprocessing.annotate_amplitude(\n",
    "#     raw=pipe.mne_raw, \n",
    "#     peak=100e-6,      # threshold (in Volts)\n",
    "#     min_duration=0.05, # Minimum duration of bad segment in seconds\n",
    "#     picks=\"eeg\"       # Apply only to EEG channels\n",
    "# )\n",
    "\n",
    "# print(\"Annotations onsets:\", annotations_amp.onset)\n",
    "# print(\"Bad channels:\", bads)\n",
    "\n",
    "# # Now set the annotations\n",
    "# pipe.mne_raw.set_annotations(annotations_amp)"
   ]
  },
  {
   "cell_type": "code",
   "execution_count": 7,
   "metadata": {},
   "outputs": [
    {
     "name": "stdout",
     "output_type": "stream",
     "text": [
      "Using pyopengl with version 3.1.9\n",
      "<Annotations | 613 segments: BAD (607), Missing 1 samples / 0,00 seconds ...>\n"
     ]
    },
    {
     "name": "stdout",
     "output_type": "stream",
     "text": [
      "Channels marked as bad:\n",
      "none\n"
     ]
    }
   ],
   "source": [
    "fig = pipe.mne_raw.plot()\n",
    "print(pipe.mne_raw.annotations)"
   ]
  },
  {
   "cell_type": "code",
   "execution_count": 8,
   "metadata": {},
   "outputs": [
    {
     "name": "stdout",
     "output_type": "stream",
     "text": [
      "NOTE: pick_channels() is a legacy function. New code should use inst.pick(...).\n",
      "EEG channel type selected for re-referencing\n",
      "Adding average EEG reference projection.\n",
      "1 projection items deactivated\n",
      "Average reference projection was added, but has not been applied yet. Use the apply_proj method to apply it.\n",
      "NOTE: pick_types() is a legacy function. New code should use inst.pick(...).\n",
      "Setting up high-pass filter at 1 Hz\n",
      "\n",
      "FIR filter parameters\n",
      "---------------------\n",
      "Designing a one-pass, zero-phase, non-causal highpass filter:\n",
      "- Windowed time-domain design (firwin) method\n",
      "- Hamming window with 0.0194 passband ripple and 53 dB stopband attenuation\n",
      "- Lower passband edge: 1.00\n",
      "- Lower transition bandwidth: 1.00 Hz (-6 dB cutoff frequency: 0.50 Hz)\n",
      "- Filter length: 845 samples (3.301 s)\n",
      "\n"
     ]
    },
    {
     "name": "stderr",
     "output_type": "stream",
     "text": [
      "[Parallel(n_jobs=1)]: Done  17 tasks      | elapsed:    0.0s\n"
     ]
    },
    {
     "name": "stdout",
     "output_type": "stream",
     "text": [
      "Executing RANSAC\n",
      "This may take a while, so be patient...\n"
     ]
    },
    {
     "data": {
      "application/vnd.jupyter.widget-view+json": {
       "model_id": "95b40df2236540489d0576b274f17083",
       "version_major": 2,
       "version_minor": 0
      },
      "text/plain": [
       "  0%|          |  : 0/41 [00:00<?,       ?it/s]"
      ]
     },
     "metadata": {},
     "output_type": "display_data"
    },
    {
     "name": "stdout",
     "output_type": "stream",
     "text": [
      "\n",
      "RANSAC done!\n",
      "NOTE: pick_types() is a legacy function. New code should use inst.pick(...).\n",
      "Setting up high-pass filter at 1 Hz\n",
      "\n",
      "FIR filter parameters\n",
      "---------------------\n",
      "Designing a one-pass, zero-phase, non-causal highpass filter:\n",
      "- Windowed time-domain design (firwin) method\n",
      "- Hamming window with 0.0194 passband ripple and 53 dB stopband attenuation\n",
      "- Lower passband edge: 1.00\n",
      "- Lower transition bandwidth: 1.00 Hz (-6 dB cutoff frequency: 0.50 Hz)\n",
      "- Filter length: 845 samples (3.301 s)\n",
      "\n"
     ]
    },
    {
     "name": "stderr",
     "output_type": "stream",
     "text": [
      "[Parallel(n_jobs=1)]: Done  17 tasks      | elapsed:    2.6s\n"
     ]
    },
    {
     "name": "stdout",
     "output_type": "stream",
     "text": [
      "Executing RANSAC\n",
      "This may take a while, so be patient...\n"
     ]
    },
    {
     "data": {
      "application/vnd.jupyter.widget-view+json": {
       "model_id": "543fe49408a8415db86395c9950dfea0",
       "version_major": 2,
       "version_minor": 0
      },
      "text/plain": [
       "  0%|          |  : 0/6919 [00:00<?,       ?it/s]"
      ]
     },
     "metadata": {},
     "output_type": "display_data"
    },
    {
     "name": "stdout",
     "output_type": "stream",
     "text": [
      "\n",
      "RANSAC done!\n",
      "Setting channel interpolation method to {'eeg': 'spline'}.\n",
      "Interpolating bad channels.\n",
      "    Automatic origin fit: head of radius 94.3 mm\n",
      "Computing interpolation matrix from 12 sensor positions\n",
      "Interpolating 13 sensors\n"
     ]
    },
    {
     "name": "stderr",
     "output_type": "stream",
     "text": [
      "Interpolated channels: ['T7', 'F3', 'T10', 'P3', 'Cz', 'P9', 'Fz', 'T9', 'F4', 'F8', 'F7', 'O1', 'P7']\n"
     ]
    }
   ],
   "source": [
    "# Load a standard 10-20 montage\n",
    "montage = mne.channels.make_standard_montage(\"standard_1020\")\n",
    "\n",
    "# Get only the channels that exist in the montage\n",
    "valid_channels = [ch for ch in pipe.mne_raw.ch_names if ch in montage.ch_names]\n",
    "pipe.mne_raw.pick_channels(valid_channels)\n",
    "\n",
    "# Apply montage\n",
    "pipe.mne_raw.set_montage(montage)\n",
    "\n",
    "# Now run bad channel detection\n",
    "#bad_channels = pipe.auto_detect_bad_channels()\n",
    "\n",
    "pipe.mne_raw.info\n",
    "\n",
    "pipe.set_eeg_reference(ref_channels=\"average\", projection=True)\n",
    "\n",
    "if bad_channels_selection == \"manually\":\n",
    "    pipe.plot(save_bad_channels=True)\n",
    "elif bad_channels_selection == \"automatically\":\n",
    "    bad_channels = pipe.auto_detect_bad_channels()\n",
    "\n",
    "pipe.read_bad_channels(path=None if bad_channels_selection == \"Manually\" else bad_channels)\n",
    "\n",
    "pipe.interpolate_bads(reset_bads=True)\n",
    "\n",
    "if annotations_selection == \"manually\":\n",
    "    pipe.plot(butterfly=True, save_annotations=True, overwrite=True)\n",
    "    pipe.read_annotations()\n",
    "elif annotations_selection == \"from-file\":\n",
    "    pipe.read_annotations(path=annotations)\n",
    "elif annotations_selection == \"automatically\":\n",
    "    pipe.auto_set_annotations()"
   ]
  },
  {
   "cell_type": "code",
   "execution_count": 9,
   "metadata": {},
   "outputs": [
    {
     "name": "stdout",
     "output_type": "stream",
     "text": [
      "Recording started at: 2024-11-22 14:08:21+00:00\n",
      "Adjusted Recording Start (After Cropping): 2024-11-22 19:08:21+00:00\n"
     ]
    }
   ],
   "source": [
    "recording_start = pipe.mne_raw.info[\"meas_date\"]  # Get actual recording datetime\n",
    "if isinstance(recording_start, tuple):  # MNE sometimes returns a tuple\n",
    "    recording_start = recording_start[0]\n",
    "\n",
    "# Convert to datetime format (if needed)\n",
    "if isinstance(recording_start, float):\n",
    "    recording_start = datetime.datetime.utcfromtimestamp(recording_start)\n",
    "\n",
    "print(f\"Recording started at: {recording_start}\")\n",
    "\n",
    "crop_offset = 18000  # The EEG was cropped at 20,000 sec\n",
    "new_start_time = recording_start + datetime.timedelta(seconds=crop_offset)\n",
    "\n",
    "print(f\"Adjusted Recording Start (After Cropping): {new_start_time}\")"
   ]
  },
  {
   "cell_type": "code",
   "execution_count": 10,
   "metadata": {},
   "outputs": [
    {
     "name": "stdout",
     "output_type": "stream",
     "text": [
      "EEG channel type selected for re-referencing\n",
      "Applying average reference.\n",
      "Applying a custom ('EEG',) reference.\n",
      "Removing existing average EEG reference projection.\n"
     ]
    },
    {
     "name": "stderr",
     "output_type": "stream",
     "text": [
      "average reference has been applied\n"
     ]
    },
    {
     "name": "stdout",
     "output_type": "stream",
     "text": [
      "EEG channel type selected for re-referencing\n",
      "Applying a custom ('EEG',) reference.\n"
     ]
    },
    {
     "ename": "OSError",
     "evalue": "dlopen(/opt/anaconda3/envs/sleep_env/lib/python3.10/site-packages/lightgbm/lib/lib_lightgbm.dylib, 0x0006): Library not loaded: @rpath/libomp.dylib\n  Referenced from: <D44045CD-B874-3A27-9A61-F131D99AACE4> /opt/anaconda3/envs/sleep_env/lib/python3.10/site-packages/lightgbm/lib/lib_lightgbm.dylib\n  Reason: tried: '/opt/homebrew/opt/libomp/lib/libomp.dylib' (no such file), '/System/Volumes/Preboot/Cryptexes/OS/opt/homebrew/opt/libomp/lib/libomp.dylib' (no such file), '/opt/local/lib/libomp/libomp.dylib' (no such file), '/System/Volumes/Preboot/Cryptexes/OS/opt/local/lib/libomp/libomp.dylib' (no such file), '/opt/homebrew/opt/libomp/lib/libomp.dylib' (no such file), '/System/Volumes/Preboot/Cryptexes/OS/opt/homebrew/opt/libomp/lib/libomp.dylib' (no such file), '/opt/local/lib/libomp/libomp.dylib' (no such file), '/System/Volumes/Preboot/Cryptexes/OS/opt/local/lib/libomp/libomp.dylib' (no such file), '/opt/anaconda3/envs/sleep_env/lib/python3.10/lib-dynload/../../libomp.dylib' (no such file), '/opt/anaconda3/envs/sleep_env/bin/../lib/libomp.dylib' (no such file)",
     "output_type": "error",
     "traceback": [
      "\u001b[0;31m---------------------------------------------------------------------------\u001b[0m",
      "\u001b[0;31mOSError\u001b[0m                                   Traceback (most recent call last)",
      "Cell \u001b[0;32mIn[10], line 2\u001b[0m\n\u001b[1;32m      1\u001b[0m \u001b[38;5;66;03m# os.environ[\"NUMBA_DISABLE_JIT\"] = \"1\"\u001b[39;00m\n\u001b[0;32m----> 2\u001b[0m fig \u001b[38;5;241m=\u001b[39m \u001b[43mcreate_dashboard\u001b[49m\u001b[43m(\u001b[49m\n\u001b[1;32m      3\u001b[0m \u001b[43m    \u001b[49m\u001b[43msubject_code\u001b[49m\u001b[38;5;241;43m=\u001b[39;49m\u001b[43msubject_code\u001b[49m\u001b[43m,\u001b[49m\n\u001b[1;32m      4\u001b[0m \u001b[43m    \u001b[49m\u001b[43mprec_pipe\u001b[49m\u001b[38;5;241;43m=\u001b[39;49m\u001b[43mpipe\u001b[49m\u001b[43m,\u001b[49m\n\u001b[1;32m      5\u001b[0m \u001b[43m    \u001b[49m\u001b[43mhypno_psd_pick\u001b[49m\u001b[38;5;241;43m=\u001b[39;49m\u001b[43mpicked_channel\u001b[49m\u001b[43m,\u001b[49m\n\u001b[1;32m      6\u001b[0m \u001b[43m    \u001b[49m\u001b[43mhypnogram\u001b[49m\u001b[38;5;241;43m=\u001b[39;49m\u001b[43mhypnogram_path\u001b[49m\u001b[43m,\u001b[49m\n\u001b[1;32m      7\u001b[0m \u001b[43m    \u001b[49m\u001b[43mpredict_hypno_args\u001b[49m\u001b[38;5;241;43m=\u001b[39;49m\u001b[43mhypno_predict_arguments\u001b[49m\u001b[43m,\u001b[49m\n\u001b[1;32m      8\u001b[0m \u001b[43m    \u001b[49m\u001b[43mhypno_freq\u001b[49m\u001b[38;5;241;43m=\u001b[39;49m\u001b[43mhypno_freq\u001b[49m\u001b[43m,\u001b[49m\n\u001b[1;32m      9\u001b[0m \u001b[43m    \u001b[49m\u001b[43mreference\u001b[49m\u001b[38;5;241;43m=\u001b[39;49m\u001b[38;5;124;43m\"\u001b[39;49m\u001b[38;5;124;43maverage\u001b[39;49m\u001b[38;5;124;43m\"\u001b[39;49m\u001b[43m,\u001b[49m\n\u001b[1;32m     10\u001b[0m \u001b[43m)\u001b[49m\n",
      "File \u001b[0;32m/opt/anaconda3/envs/sleep_env/lib/python3.10/site-packages/sleepeegpy/dashboard.py:279\u001b[0m, in \u001b[0;36mcreate_dashboard\u001b[0;34m(subject_code, path_to_eeg, hypnogram, hypno_freq, predict_hypno_args, output_dir, reference, hypno_psd_pick, resampling_freq, bandpass_filter_freqs, path_to_ica_fif, path_to_bad_channels, path_to_annotations, power_colorbar_limits, prec_pipe)\u001b[0m\n\u001b[1;32m    277\u001b[0m \u001b[38;5;28;01mif\u001b[39;00m reference:\n\u001b[1;32m    278\u001b[0m     pipe\u001b[38;5;241m.\u001b[39mset_eeg_reference(ref_channels\u001b[38;5;241m=\u001b[39mreference)\n\u001b[0;32m--> 279\u001b[0m spectral_pipe, sleep_stages \u001b[38;5;241m=\u001b[39m \u001b[43m_init_spectral_pipe\u001b[49m\u001b[43m(\u001b[49m\u001b[43mpipe\u001b[49m\u001b[43m,\u001b[49m\u001b[43m \u001b[49m\u001b[43mhypnogram\u001b[49m\u001b[43m,\u001b[49m\u001b[43m \u001b[49m\u001b[43mhypno_freq\u001b[49m\u001b[43m,\u001b[49m\u001b[43m \u001b[49m\u001b[43mpredict_hypno_args\u001b[49m\u001b[43m)\u001b[49m\n\u001b[1;32m    281\u001b[0m picks_str_repr \u001b[38;5;241m=\u001b[39m hypno_psd_pick \u001b[38;5;28;01mif\u001b[39;00m \u001b[38;5;28misinstance\u001b[39m(hypno_psd_pick, \u001b[38;5;28mstr\u001b[39m) \u001b[38;5;28;01melse\u001b[39;00m \u001b[38;5;124m\"\u001b[39m\u001b[38;5;124m, \u001b[39m\u001b[38;5;124m\"\u001b[39m\u001b[38;5;241m.\u001b[39mjoin(\u001b[38;5;28mstr\u001b[39m(x) \u001b[38;5;28;01mfor\u001b[39;00m x \u001b[38;5;129;01min\u001b[39;00m hypno_psd_pick)\n\u001b[1;32m    282\u001b[0m \u001b[38;5;28;01mtry\u001b[39;00m:\n",
      "File \u001b[0;32m/opt/anaconda3/envs/sleep_env/lib/python3.10/site-packages/sleepeegpy/dashboard.py:30\u001b[0m, in \u001b[0;36m_init_spectral_pipe\u001b[0;34m(prec_pipe, hypnogram, hypno_freq, predict_hypno_args)\u001b[0m\n\u001b[1;32m     25\u001b[0m \u001b[38;5;28;01melif\u001b[39;00m hypnogram \u001b[38;5;241m==\u001b[39m \u001b[38;5;124m\"\u001b[39m\u001b[38;5;124mpredict\u001b[39m\u001b[38;5;124m\"\u001b[39m:\n\u001b[1;32m     26\u001b[0m     s_pipe \u001b[38;5;241m=\u001b[39m SpectralPipe(\n\u001b[1;32m     27\u001b[0m         prec_pipe\u001b[38;5;241m=\u001b[39mprec_pipe,\n\u001b[1;32m     28\u001b[0m         hypno_freq\u001b[38;5;241m=\u001b[39mhypno_freq,\n\u001b[1;32m     29\u001b[0m     )\n\u001b[0;32m---> 30\u001b[0m     \u001b[43ms_pipe\u001b[49m\u001b[38;5;241;43m.\u001b[39;49m\u001b[43mpredict_hypno\u001b[49m\u001b[43m(\u001b[49m\u001b[38;5;241;43m*\u001b[39;49m\u001b[38;5;241;43m*\u001b[39;49m\u001b[43mpredict_hypno_args\u001b[49m\u001b[43m)\u001b[49m\n\u001b[1;32m     31\u001b[0m     sleep_stages \u001b[38;5;241m=\u001b[39m {\u001b[38;5;124m\"\u001b[39m\u001b[38;5;124mWake\u001b[39m\u001b[38;5;124m\"\u001b[39m: \u001b[38;5;241m0\u001b[39m, \u001b[38;5;124m\"\u001b[39m\u001b[38;5;124mN1\u001b[39m\u001b[38;5;124m\"\u001b[39m: \u001b[38;5;241m1\u001b[39m, \u001b[38;5;124m\"\u001b[39m\u001b[38;5;124mN2\u001b[39m\u001b[38;5;124m\"\u001b[39m: \u001b[38;5;241m2\u001b[39m, \u001b[38;5;124m\"\u001b[39m\u001b[38;5;124mN3\u001b[39m\u001b[38;5;124m\"\u001b[39m: \u001b[38;5;241m3\u001b[39m, \u001b[38;5;124m\"\u001b[39m\u001b[38;5;124mREM\u001b[39m\u001b[38;5;124m\"\u001b[39m: \u001b[38;5;241m4\u001b[39m}\n\u001b[1;32m     32\u001b[0m \u001b[38;5;28;01melse\u001b[39;00m:\n",
      "File \u001b[0;32m/opt/anaconda3/envs/sleep_env/lib/python3.10/site-packages/sleepeegpy/utils.py:16\u001b[0m, in \u001b[0;36mlogger_wraps.<locals>.wrapper.<locals>.wrapped\u001b[0;34m(self, *args, **kwargs)\u001b[0m\n\u001b[1;32m     11\u001b[0m logger_ \u001b[38;5;241m=\u001b[39m logger\u001b[38;5;241m.\u001b[39mopt(depth\u001b[38;5;241m=\u001b[39m\u001b[38;5;241m1\u001b[39m)\n\u001b[1;32m     12\u001b[0m logger_\u001b[38;5;241m.\u001b[39mlog(\n\u001b[1;32m     13\u001b[0m     level,\n\u001b[1;32m     14\u001b[0m     \u001b[38;5;124mf\u001b[39m\u001b[38;5;124m\"\u001b[39m\u001b[38;5;124mEntering \u001b[39m\u001b[38;5;124m'\u001b[39m\u001b[38;5;132;01m{\u001b[39;00m\u001b[38;5;28mself\u001b[39m\u001b[38;5;241m.\u001b[39m\u001b[38;5;18m__class__\u001b[39m\u001b[38;5;241m.\u001b[39m\u001b[38;5;18m__name__\u001b[39m\u001b[38;5;132;01m}\u001b[39;00m\u001b[38;5;124m.\u001b[39m\u001b[38;5;132;01m{\u001b[39;00mname\u001b[38;5;132;01m}\u001b[39;00m\u001b[38;5;124m'\u001b[39m\u001b[38;5;124m (args=\u001b[39m\u001b[38;5;132;01m{\u001b[39;00margs\u001b[38;5;132;01m}\u001b[39;00m\u001b[38;5;124m, kwargs=\u001b[39m\u001b[38;5;132;01m{\u001b[39;00mkwargs\u001b[38;5;132;01m}\u001b[39;00m\u001b[38;5;124m)\u001b[39m\u001b[38;5;124m\"\u001b[39m,\n\u001b[1;32m     15\u001b[0m )\n\u001b[0;32m---> 16\u001b[0m result \u001b[38;5;241m=\u001b[39m \u001b[43mfunc\u001b[49m\u001b[43m(\u001b[49m\u001b[38;5;28;43mself\u001b[39;49m\u001b[43m,\u001b[49m\u001b[43m \u001b[49m\u001b[38;5;241;43m*\u001b[39;49m\u001b[43margs\u001b[49m\u001b[43m,\u001b[49m\u001b[43m \u001b[49m\u001b[38;5;241;43m*\u001b[39;49m\u001b[38;5;241;43m*\u001b[39;49m\u001b[43mkwargs\u001b[49m\u001b[43m)\u001b[49m\n\u001b[1;32m     18\u001b[0m \u001b[38;5;28;01mreturn\u001b[39;00m result\n",
      "File \u001b[0;32m/opt/anaconda3/envs/sleep_env/lib/python3.10/site-packages/sleepeegpy/base.py:341\u001b[0m, in \u001b[0;36mBaseHypnoPipe.predict_hypno\u001b[0;34m(self, eeg_name, eog_name, emg_name, ref_name, save)\u001b[0m\n\u001b[1;32m    333\u001b[0m \u001b[38;5;28;01mfrom\u001b[39;00m\u001b[38;5;250m \u001b[39m\u001b[38;5;21;01myasa\u001b[39;00m\u001b[38;5;250m \u001b[39m\u001b[38;5;28;01mimport\u001b[39;00m SleepStaging, hypno_str_to_int\n\u001b[1;32m    335\u001b[0m sls \u001b[38;5;241m=\u001b[39m SleepStaging(\n\u001b[1;32m    336\u001b[0m     \u001b[38;5;28mself\u001b[39m\u001b[38;5;241m.\u001b[39mmne_raw\u001b[38;5;241m.\u001b[39mcopy()\u001b[38;5;241m.\u001b[39mload_data()\u001b[38;5;241m.\u001b[39mset_eeg_reference(ref_channels\u001b[38;5;241m=\u001b[39m[ref_name]),\n\u001b[1;32m    337\u001b[0m     eeg_name\u001b[38;5;241m=\u001b[39meeg_name,\n\u001b[1;32m    338\u001b[0m     eog_name\u001b[38;5;241m=\u001b[39meog_name,\n\u001b[1;32m    339\u001b[0m     emg_name\u001b[38;5;241m=\u001b[39memg_name,\n\u001b[1;32m    340\u001b[0m )\n\u001b[0;32m--> 341\u001b[0m hypno \u001b[38;5;241m=\u001b[39m \u001b[43msls\u001b[49m\u001b[38;5;241;43m.\u001b[39;49m\u001b[43mpredict\u001b[49m\u001b[43m(\u001b[49m\u001b[43m)\u001b[49m\n\u001b[1;32m    343\u001b[0m \u001b[38;5;66;03m# Set hypno attributes according to the predicted hypnogram.\u001b[39;00m\n\u001b[1;32m    344\u001b[0m \u001b[38;5;28mself\u001b[39m\u001b[38;5;241m.\u001b[39mhypno \u001b[38;5;241m=\u001b[39m hypno_str_to_int(hypno)\n",
      "File \u001b[0;32m/opt/anaconda3/envs/sleep_env/lib/python3.10/site-packages/yasa/staging.py:434\u001b[0m, in \u001b[0;36mSleepStaging.predict\u001b[0;34m(self, path_to_model)\u001b[0m\n\u001b[1;32m    432\u001b[0m     \u001b[38;5;28mself\u001b[39m\u001b[38;5;241m.\u001b[39mfit()\n\u001b[1;32m    433\u001b[0m \u001b[38;5;66;03m# Load and validate pre-trained classifier\u001b[39;00m\n\u001b[0;32m--> 434\u001b[0m clf \u001b[38;5;241m=\u001b[39m \u001b[38;5;28;43mself\u001b[39;49m\u001b[38;5;241;43m.\u001b[39;49m\u001b[43m_load_model\u001b[49m\u001b[43m(\u001b[49m\u001b[43mpath_to_model\u001b[49m\u001b[43m)\u001b[49m\n\u001b[1;32m    435\u001b[0m \u001b[38;5;66;03m# Now we make sure that the features are aligned\u001b[39;00m\n\u001b[1;32m    436\u001b[0m X \u001b[38;5;241m=\u001b[39m \u001b[38;5;28mself\u001b[39m\u001b[38;5;241m.\u001b[39m_features\u001b[38;5;241m.\u001b[39mcopy()[clf\u001b[38;5;241m.\u001b[39mfeature_name_]\n",
      "File \u001b[0;32m/opt/anaconda3/envs/sleep_env/lib/python3.10/site-packages/yasa/staging.py:407\u001b[0m, in \u001b[0;36mSleepStaging._load_model\u001b[0;34m(self, path_to_model)\u001b[0m\n\u001b[1;32m    405\u001b[0m logger\u001b[38;5;241m.\u001b[39minfo(\u001b[38;5;124m\"\u001b[39m\u001b[38;5;124mUsing pre-trained classifier: \u001b[39m\u001b[38;5;132;01m%s\u001b[39;00m\u001b[38;5;124m\"\u001b[39m \u001b[38;5;241m%\u001b[39m path_to_model)\n\u001b[1;32m    406\u001b[0m \u001b[38;5;66;03m# Load using Joblib\u001b[39;00m\n\u001b[0;32m--> 407\u001b[0m clf \u001b[38;5;241m=\u001b[39m \u001b[43mjoblib\u001b[49m\u001b[38;5;241;43m.\u001b[39;49m\u001b[43mload\u001b[49m\u001b[43m(\u001b[49m\u001b[43mpath_to_model\u001b[49m\u001b[43m)\u001b[49m\n\u001b[1;32m    408\u001b[0m \u001b[38;5;66;03m# Validate features\u001b[39;00m\n\u001b[1;32m    409\u001b[0m \u001b[38;5;28mself\u001b[39m\u001b[38;5;241m.\u001b[39m_validate_predict(clf)\n",
      "File \u001b[0;32m/opt/anaconda3/envs/sleep_env/lib/python3.10/site-packages/joblib/numpy_pickle.py:658\u001b[0m, in \u001b[0;36mload\u001b[0;34m(filename, mmap_mode)\u001b[0m\n\u001b[1;32m    652\u001b[0m             \u001b[38;5;28;01mif\u001b[39;00m \u001b[38;5;28misinstance\u001b[39m(fobj, \u001b[38;5;28mstr\u001b[39m):\n\u001b[1;32m    653\u001b[0m                 \u001b[38;5;66;03m# if the returned file object is a string, this means we\u001b[39;00m\n\u001b[1;32m    654\u001b[0m                 \u001b[38;5;66;03m# try to load a pickle file generated with an version of\u001b[39;00m\n\u001b[1;32m    655\u001b[0m                 \u001b[38;5;66;03m# Joblib so we load it with joblib compatibility function.\u001b[39;00m\n\u001b[1;32m    656\u001b[0m                 \u001b[38;5;28;01mreturn\u001b[39;00m load_compatibility(fobj)\n\u001b[0;32m--> 658\u001b[0m             obj \u001b[38;5;241m=\u001b[39m \u001b[43m_unpickle\u001b[49m\u001b[43m(\u001b[49m\u001b[43mfobj\u001b[49m\u001b[43m,\u001b[49m\u001b[43m \u001b[49m\u001b[43mfilename\u001b[49m\u001b[43m,\u001b[49m\u001b[43m \u001b[49m\u001b[43mmmap_mode\u001b[49m\u001b[43m)\u001b[49m\n\u001b[1;32m    659\u001b[0m \u001b[38;5;28;01mreturn\u001b[39;00m obj\n",
      "File \u001b[0;32m/opt/anaconda3/envs/sleep_env/lib/python3.10/site-packages/joblib/numpy_pickle.py:577\u001b[0m, in \u001b[0;36m_unpickle\u001b[0;34m(fobj, filename, mmap_mode)\u001b[0m\n\u001b[1;32m    575\u001b[0m obj \u001b[38;5;241m=\u001b[39m \u001b[38;5;28;01mNone\u001b[39;00m\n\u001b[1;32m    576\u001b[0m \u001b[38;5;28;01mtry\u001b[39;00m:\n\u001b[0;32m--> 577\u001b[0m     obj \u001b[38;5;241m=\u001b[39m \u001b[43munpickler\u001b[49m\u001b[38;5;241;43m.\u001b[39;49m\u001b[43mload\u001b[49m\u001b[43m(\u001b[49m\u001b[43m)\u001b[49m\n\u001b[1;32m    578\u001b[0m     \u001b[38;5;28;01mif\u001b[39;00m unpickler\u001b[38;5;241m.\u001b[39mcompat_mode:\n\u001b[1;32m    579\u001b[0m         warnings\u001b[38;5;241m.\u001b[39mwarn(\u001b[38;5;124m\"\u001b[39m\u001b[38;5;124mThe file \u001b[39m\u001b[38;5;124m'\u001b[39m\u001b[38;5;132;01m%s\u001b[39;00m\u001b[38;5;124m'\u001b[39m\u001b[38;5;124m has been generated with a \u001b[39m\u001b[38;5;124m\"\u001b[39m\n\u001b[1;32m    580\u001b[0m                       \u001b[38;5;124m\"\u001b[39m\u001b[38;5;124mjoblib version less than 0.10. \u001b[39m\u001b[38;5;124m\"\u001b[39m\n\u001b[1;32m    581\u001b[0m                       \u001b[38;5;124m\"\u001b[39m\u001b[38;5;124mPlease regenerate this pickle file.\u001b[39m\u001b[38;5;124m\"\u001b[39m\n\u001b[1;32m    582\u001b[0m                       \u001b[38;5;241m%\u001b[39m filename,\n\u001b[1;32m    583\u001b[0m                       \u001b[38;5;167;01mDeprecationWarning\u001b[39;00m, stacklevel\u001b[38;5;241m=\u001b[39m\u001b[38;5;241m3\u001b[39m)\n",
      "File \u001b[0;32m/opt/anaconda3/envs/sleep_env/lib/python3.10/pickle.py:1213\u001b[0m, in \u001b[0;36m_Unpickler.load\u001b[0;34m(self)\u001b[0m\n\u001b[1;32m   1211\u001b[0m             \u001b[38;5;28;01mraise\u001b[39;00m \u001b[38;5;167;01mEOFError\u001b[39;00m\n\u001b[1;32m   1212\u001b[0m         \u001b[38;5;28;01massert\u001b[39;00m \u001b[38;5;28misinstance\u001b[39m(key, bytes_types)\n\u001b[0;32m-> 1213\u001b[0m         \u001b[43mdispatch\u001b[49m\u001b[43m[\u001b[49m\u001b[43mkey\u001b[49m\u001b[43m[\u001b[49m\u001b[38;5;241;43m0\u001b[39;49m\u001b[43m]\u001b[49m\u001b[43m]\u001b[49m\u001b[43m(\u001b[49m\u001b[38;5;28;43mself\u001b[39;49m\u001b[43m)\u001b[49m\n\u001b[1;32m   1214\u001b[0m \u001b[38;5;28;01mexcept\u001b[39;00m _Stop \u001b[38;5;28;01mas\u001b[39;00m stopinst:\n\u001b[1;32m   1215\u001b[0m     \u001b[38;5;28;01mreturn\u001b[39;00m stopinst\u001b[38;5;241m.\u001b[39mvalue\n",
      "File \u001b[0;32m/opt/anaconda3/envs/sleep_env/lib/python3.10/pickle.py:1538\u001b[0m, in \u001b[0;36m_Unpickler.load_stack_global\u001b[0;34m(self)\u001b[0m\n\u001b[1;32m   1536\u001b[0m \u001b[38;5;28;01mif\u001b[39;00m \u001b[38;5;28mtype\u001b[39m(name) \u001b[38;5;129;01mis\u001b[39;00m \u001b[38;5;129;01mnot\u001b[39;00m \u001b[38;5;28mstr\u001b[39m \u001b[38;5;129;01mor\u001b[39;00m \u001b[38;5;28mtype\u001b[39m(module) \u001b[38;5;129;01mis\u001b[39;00m \u001b[38;5;129;01mnot\u001b[39;00m \u001b[38;5;28mstr\u001b[39m:\n\u001b[1;32m   1537\u001b[0m     \u001b[38;5;28;01mraise\u001b[39;00m UnpicklingError(\u001b[38;5;124m\"\u001b[39m\u001b[38;5;124mSTACK_GLOBAL requires str\u001b[39m\u001b[38;5;124m\"\u001b[39m)\n\u001b[0;32m-> 1538\u001b[0m \u001b[38;5;28mself\u001b[39m\u001b[38;5;241m.\u001b[39mappend(\u001b[38;5;28;43mself\u001b[39;49m\u001b[38;5;241;43m.\u001b[39;49m\u001b[43mfind_class\u001b[49m\u001b[43m(\u001b[49m\u001b[43mmodule\u001b[49m\u001b[43m,\u001b[49m\u001b[43m \u001b[49m\u001b[43mname\u001b[49m\u001b[43m)\u001b[49m)\n",
      "File \u001b[0;32m/opt/anaconda3/envs/sleep_env/lib/python3.10/pickle.py:1580\u001b[0m, in \u001b[0;36m_Unpickler.find_class\u001b[0;34m(self, module, name)\u001b[0m\n\u001b[1;32m   1578\u001b[0m     \u001b[38;5;28;01melif\u001b[39;00m module \u001b[38;5;129;01min\u001b[39;00m _compat_pickle\u001b[38;5;241m.\u001b[39mIMPORT_MAPPING:\n\u001b[1;32m   1579\u001b[0m         module \u001b[38;5;241m=\u001b[39m _compat_pickle\u001b[38;5;241m.\u001b[39mIMPORT_MAPPING[module]\n\u001b[0;32m-> 1580\u001b[0m \u001b[38;5;28;43m__import__\u001b[39;49m\u001b[43m(\u001b[49m\u001b[43mmodule\u001b[49m\u001b[43m,\u001b[49m\u001b[43m \u001b[49m\u001b[43mlevel\u001b[49m\u001b[38;5;241;43m=\u001b[39;49m\u001b[38;5;241;43m0\u001b[39;49m\u001b[43m)\u001b[49m\n\u001b[1;32m   1581\u001b[0m \u001b[38;5;28;01mif\u001b[39;00m \u001b[38;5;28mself\u001b[39m\u001b[38;5;241m.\u001b[39mproto \u001b[38;5;241m>\u001b[39m\u001b[38;5;241m=\u001b[39m \u001b[38;5;241m4\u001b[39m:\n\u001b[1;32m   1582\u001b[0m     \u001b[38;5;28;01mreturn\u001b[39;00m _getattribute(sys\u001b[38;5;241m.\u001b[39mmodules[module], name)[\u001b[38;5;241m0\u001b[39m]\n",
      "File \u001b[0;32m/opt/anaconda3/envs/sleep_env/lib/python3.10/site-packages/lightgbm/__init__.py:11\u001b[0m\n\u001b[1;32m      7\u001b[0m \u001b[38;5;28;01mfrom\u001b[39;00m\u001b[38;5;250m \u001b[39m\u001b[38;5;21;01mpathlib\u001b[39;00m\u001b[38;5;250m \u001b[39m\u001b[38;5;28;01mimport\u001b[39;00m Path\n\u001b[1;32m      9\u001b[0m \u001b[38;5;66;03m# .basic is intentionally loaded as early as possible, to dlopen() lib_lightgbm.{dll,dylib,so}\u001b[39;00m\n\u001b[1;32m     10\u001b[0m \u001b[38;5;66;03m# and its dependencies as early as possible\u001b[39;00m\n\u001b[0;32m---> 11\u001b[0m \u001b[38;5;28;01mfrom\u001b[39;00m\u001b[38;5;250m \u001b[39m\u001b[38;5;21;01m.\u001b[39;00m\u001b[38;5;21;01mbasic\u001b[39;00m\u001b[38;5;250m \u001b[39m\u001b[38;5;28;01mimport\u001b[39;00m Booster, Dataset, Sequence, register_logger\n\u001b[1;32m     12\u001b[0m \u001b[38;5;28;01mfrom\u001b[39;00m\u001b[38;5;250m \u001b[39m\u001b[38;5;21;01m.\u001b[39;00m\u001b[38;5;21;01mcallback\u001b[39;00m\u001b[38;5;250m \u001b[39m\u001b[38;5;28;01mimport\u001b[39;00m EarlyStopException, early_stopping, log_evaluation, record_evaluation, reset_parameter\n\u001b[1;32m     13\u001b[0m \u001b[38;5;28;01mfrom\u001b[39;00m\u001b[38;5;250m \u001b[39m\u001b[38;5;21;01m.\u001b[39;00m\u001b[38;5;21;01mengine\u001b[39;00m\u001b[38;5;250m \u001b[39m\u001b[38;5;28;01mimport\u001b[39;00m CVBooster, cv, train\n",
      "File \u001b[0;32m/opt/anaconda3/envs/sleep_env/lib/python3.10/site-packages/lightgbm/basic.py:9\u001b[0m\n\u001b[1;32m      2\u001b[0m \u001b[38;5;124;03m\"\"\"Wrapper for C API of LightGBM.\"\"\"\u001b[39;00m\n\u001b[1;32m      4\u001b[0m \u001b[38;5;66;03m# This import causes lib_lightgbm.{dll,dylib,so} to be loaded.\u001b[39;00m\n\u001b[1;32m      5\u001b[0m \u001b[38;5;66;03m# It's intentionally done here, as early as possible, to avoid issues like\u001b[39;00m\n\u001b[1;32m      6\u001b[0m \u001b[38;5;66;03m# \"libgomp.so.1: cannot allocate memory in static TLS block\" on aarch64 Linux.\u001b[39;00m\n\u001b[1;32m      7\u001b[0m \u001b[38;5;66;03m#\u001b[39;00m\n\u001b[1;32m      8\u001b[0m \u001b[38;5;66;03m# For details, see the \"cannot allocate memory in static TLS block\" entry in docs/FAQ.rst.\u001b[39;00m\n\u001b[0;32m----> 9\u001b[0m \u001b[38;5;28;01mfrom\u001b[39;00m\u001b[38;5;250m \u001b[39m\u001b[38;5;21;01m.\u001b[39;00m\u001b[38;5;21;01mlibpath\u001b[39;00m\u001b[38;5;250m \u001b[39m\u001b[38;5;28;01mimport\u001b[39;00m _LIB  \u001b[38;5;66;03m# isort: skip\u001b[39;00m\n\u001b[1;32m     11\u001b[0m \u001b[38;5;28;01mimport\u001b[39;00m\u001b[38;5;250m \u001b[39m\u001b[38;5;21;01mabc\u001b[39;00m\n\u001b[1;32m     12\u001b[0m \u001b[38;5;28;01mimport\u001b[39;00m\u001b[38;5;250m \u001b[39m\u001b[38;5;21;01mctypes\u001b[39;00m\n",
      "File \u001b[0;32m/opt/anaconda3/envs/sleep_env/lib/python3.10/site-packages/lightgbm/libpath.py:49\u001b[0m\n\u001b[1;32m     47\u001b[0m     _LIB \u001b[38;5;241m=\u001b[39m Mock(ctypes\u001b[38;5;241m.\u001b[39mCDLL)  \u001b[38;5;66;03m# type: ignore\u001b[39;00m\n\u001b[1;32m     48\u001b[0m \u001b[38;5;28;01melse\u001b[39;00m:\n\u001b[0;32m---> 49\u001b[0m     _LIB \u001b[38;5;241m=\u001b[39m \u001b[43mctypes\u001b[49m\u001b[38;5;241;43m.\u001b[39;49m\u001b[43mcdll\u001b[49m\u001b[38;5;241;43m.\u001b[39;49m\u001b[43mLoadLibrary\u001b[49m\u001b[43m(\u001b[49m\u001b[43m_find_lib_path\u001b[49m\u001b[43m(\u001b[49m\u001b[43m)\u001b[49m\u001b[43m[\u001b[49m\u001b[38;5;241;43m0\u001b[39;49m\u001b[43m]\u001b[49m\u001b[43m)\u001b[49m\n",
      "File \u001b[0;32m/opt/anaconda3/envs/sleep_env/lib/python3.10/ctypes/__init__.py:452\u001b[0m, in \u001b[0;36mLibraryLoader.LoadLibrary\u001b[0;34m(self, name)\u001b[0m\n\u001b[1;32m    451\u001b[0m \u001b[38;5;28;01mdef\u001b[39;00m\u001b[38;5;250m \u001b[39m\u001b[38;5;21mLoadLibrary\u001b[39m(\u001b[38;5;28mself\u001b[39m, name):\n\u001b[0;32m--> 452\u001b[0m     \u001b[38;5;28;01mreturn\u001b[39;00m \u001b[38;5;28;43mself\u001b[39;49m\u001b[38;5;241;43m.\u001b[39;49m\u001b[43m_dlltype\u001b[49m\u001b[43m(\u001b[49m\u001b[43mname\u001b[49m\u001b[43m)\u001b[49m\n",
      "File \u001b[0;32m/opt/anaconda3/envs/sleep_env/lib/python3.10/ctypes/__init__.py:374\u001b[0m, in \u001b[0;36mCDLL.__init__\u001b[0;34m(self, name, mode, handle, use_errno, use_last_error, winmode)\u001b[0m\n\u001b[1;32m    371\u001b[0m \u001b[38;5;28mself\u001b[39m\u001b[38;5;241m.\u001b[39m_FuncPtr \u001b[38;5;241m=\u001b[39m _FuncPtr\n\u001b[1;32m    373\u001b[0m \u001b[38;5;28;01mif\u001b[39;00m handle \u001b[38;5;129;01mis\u001b[39;00m \u001b[38;5;28;01mNone\u001b[39;00m:\n\u001b[0;32m--> 374\u001b[0m     \u001b[38;5;28mself\u001b[39m\u001b[38;5;241m.\u001b[39m_handle \u001b[38;5;241m=\u001b[39m \u001b[43m_dlopen\u001b[49m\u001b[43m(\u001b[49m\u001b[38;5;28;43mself\u001b[39;49m\u001b[38;5;241;43m.\u001b[39;49m\u001b[43m_name\u001b[49m\u001b[43m,\u001b[49m\u001b[43m \u001b[49m\u001b[43mmode\u001b[49m\u001b[43m)\u001b[49m\n\u001b[1;32m    375\u001b[0m \u001b[38;5;28;01melse\u001b[39;00m:\n\u001b[1;32m    376\u001b[0m     \u001b[38;5;28mself\u001b[39m\u001b[38;5;241m.\u001b[39m_handle \u001b[38;5;241m=\u001b[39m handle\n",
      "\u001b[0;31mOSError\u001b[0m: dlopen(/opt/anaconda3/envs/sleep_env/lib/python3.10/site-packages/lightgbm/lib/lib_lightgbm.dylib, 0x0006): Library not loaded: @rpath/libomp.dylib\n  Referenced from: <D44045CD-B874-3A27-9A61-F131D99AACE4> /opt/anaconda3/envs/sleep_env/lib/python3.10/site-packages/lightgbm/lib/lib_lightgbm.dylib\n  Reason: tried: '/opt/homebrew/opt/libomp/lib/libomp.dylib' (no such file), '/System/Volumes/Preboot/Cryptexes/OS/opt/homebrew/opt/libomp/lib/libomp.dylib' (no such file), '/opt/local/lib/libomp/libomp.dylib' (no such file), '/System/Volumes/Preboot/Cryptexes/OS/opt/local/lib/libomp/libomp.dylib' (no such file), '/opt/homebrew/opt/libomp/lib/libomp.dylib' (no such file), '/System/Volumes/Preboot/Cryptexes/OS/opt/homebrew/opt/libomp/lib/libomp.dylib' (no such file), '/opt/local/lib/libomp/libomp.dylib' (no such file), '/System/Volumes/Preboot/Cryptexes/OS/opt/local/lib/libomp/libomp.dylib' (no such file), '/opt/anaconda3/envs/sleep_env/lib/python3.10/lib-dynload/../../libomp.dylib' (no such file), '/opt/anaconda3/envs/sleep_env/bin/../lib/libomp.dylib' (no such file)"
     ]
    },
    {
     "data": {
      "text/plain": [
       "<Figure size 1600x1200 with 0 Axes>"
      ]
     },
     "metadata": {},
     "output_type": "display_data"
    }
   ],
   "source": [
    "\n",
    "# os.environ[\"NUMBA_DISABLE_JIT\"] = \"1\"\n",
    "fig = create_dashboard(\n",
    "    subject_code=subject_code,\n",
    "    prec_pipe=pipe,\n",
    "    hypno_psd_pick=picked_channel,\n",
    "    hypnogram=hypnogram_path,\n",
    "    predict_hypno_args=hypno_predict_arguments,\n",
    "    hypno_freq=hypno_freq,\n",
    "    reference=\"average\",\n",
    ")\n"
   ]
  }
 ],
 "metadata": {
  "kernelspec": {
   "display_name": "myenv",
   "language": "python",
   "name": "python3"
  },
  "language_info": {
   "codemirror_mode": {
    "name": "ipython",
    "version": 3
   },
   "file_extension": ".py",
   "mimetype": "text/x-python",
   "name": "python",
   "nbconvert_exporter": "python",
   "pygments_lexer": "ipython3",
   "version": "3.10.16"
  }
 },
 "nbformat": 4,
 "nbformat_minor": 2
}
